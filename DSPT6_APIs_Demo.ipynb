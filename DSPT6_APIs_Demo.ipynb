{
  "nbformat": 4,
  "nbformat_minor": 0,
  "metadata": {
    "colab": {
      "name": "DSPT6_APIs_Demo.ipynb",
      "provenance": [],
      "collapsed_sections": [],
      "include_colab_link": true
    },
    "kernelspec": {
      "display_name": "Python 3",
      "language": "python",
      "name": "python3"
    },
    "language_info": {
      "codemirror_mode": {
        "name": "ipython",
        "version": 3
      },
      "file_extension": ".py",
      "mimetype": "text/x-python",
      "name": "python",
      "nbconvert_exporter": "python",
      "pygments_lexer": "ipython3",
      "version": "3.7.3"
    }
  },
  "cells": [
    {
      "cell_type": "markdown",
      "metadata": {
        "id": "view-in-github",
        "colab_type": "text"
      },
      "source": [
        "<a href=\"https://colab.research.google.com/github/charlie-may86/twitoff2/blob/master/DSPT6_APIs_Demo.ipynb\" target=\"_parent\"><img src=\"https://colab.research.google.com/assets/colab-badge.svg\" alt=\"Open In Colab\"/></a>"
      ]
    },
    {
      "cell_type": "code",
      "metadata": {
        "colab_type": "code",
        "id": "SGPLRW-t1ECX",
        "colab": {}
      },
      "source": [
        "!pip install basilica"
      ],
      "execution_count": null,
      "outputs": []
    },
    {
      "cell_type": "code",
      "metadata": {
        "colab_type": "code",
        "id": "vS_A9hjG1HGD",
        "colab": {}
      },
      "source": [
        "import tweepy\n",
        "import basilica"
      ],
      "execution_count": 2,
      "outputs": []
    },
    {
      "cell_type": "code",
      "metadata": {
        "colab_type": "code",
        "id": "ntkRF7mp8zqp",
        "colab": {}
      },
      "source": [
        "## ADD YOUR CREDENTIALS HERE\n",
        "# TWITTER_CONSUMER_API_KEY = \n",
        "# TWITTER_CONSUMER_API_SECRET = \n",
        "# TWITTER_ACCESS_TOKEN = \n",
        "# TWITTER_ACCESS_TOKEN_SECRET = \n",
        "BASILICA_KEY = 'b73e93fb-9406-1a2e-1b5a-a67763b69679'"
      ],
      "execution_count": 4,
      "outputs": []
    },
    {
      "cell_type": "code",
      "metadata": {
        "colab_type": "code",
        "id": "6F65yM5G1gP1",
        "colab": {}
      },
      "source": [
        "# TWITTER_AUTH = tweepy.OAuthHandler(TWITTER_CONSUMER_API_KEY,TWITTER_CONSUMER_API_SECRET)\n",
        "# TWITTER_AUTH.set_access_token(TWITTER_ACCESS_TOKEN, TWITTER_ACCESS_TOKEN_SECRET)\n",
        "# TWITTER = tweepy.API(TWITTER_AUTH)\n",
        "BASILICA = basilica.Connection(BASILICA_KEY)"
      ],
      "execution_count": 17,
      "outputs": []
    },
    {
      "cell_type": "code",
      "metadata": {
        "id": "MF1Cm7SecNNW",
        "colab_type": "code",
        "colab": {},
        "cellView": "form"
      },
      "source": [
        "#@title\n",
        "dir(TWITTER)"
      ],
      "execution_count": null,
      "outputs": []
    },
    {
      "cell_type": "code",
      "metadata": {
        "id": "ZwzM5enZvHeQ",
        "colab_type": "code",
        "colab": {},
        "cellView": "form"
      },
      "source": [
        "#@title\n",
        "twitter_user = TWITTER.get_user('elonmusk')\n",
        "twitter_user"
      ],
      "execution_count": null,
      "outputs": []
    },
    {
      "cell_type": "code",
      "metadata": {
        "id": "E2E_zE38vHmL",
        "colab_type": "code",
        "colab": {},
        "cellView": "form"
      },
      "source": [
        "#@title\n",
        "twitter_user.id"
      ],
      "execution_count": null,
      "outputs": []
    },
    {
      "cell_type": "code",
      "metadata": {
        "id": "RbtTuymPvHig",
        "colab_type": "code",
        "colab": {},
        "cellView": "form"
      },
      "source": [
        "#@title\n",
        "tweets = twitter_user.timeline()\n",
        "tweets"
      ],
      "execution_count": null,
      "outputs": []
    },
    {
      "cell_type": "code",
      "metadata": {
        "id": "zSui-704vHbg",
        "colab_type": "code",
        "colab": {},
        "cellView": "form"
      },
      "source": [
        "#@title\n",
        "tweets[1].text"
      ],
      "execution_count": null,
      "outputs": []
    },
    {
      "cell_type": "code",
      "metadata": {
        "id": "o1dgxFqZwryr",
        "colab_type": "code",
        "colab": {},
        "cellView": "form"
      },
      "source": [
        "#@title\n",
        "tweets = twitter_user.timeline(count=200,\n",
        "                               exclude_replies=True,\n",
        "                               include_rts=False,\n",
        "                               # since=1,\n",
        "                               tweet_mode='extended')\n",
        "print(len(tweets))"
      ],
      "execution_count": null,
      "outputs": []
    },
    {
      "cell_type": "code",
      "metadata": {
        "id": "SDJvTx1dxQHv",
        "colab_type": "code",
        "colab": {},
        "cellView": "form"
      },
      "source": [
        "#@title\n",
        "tweets[1].full_text"
      ],
      "execution_count": null,
      "outputs": []
    },
    {
      "cell_type": "code",
      "metadata": {
        "id": "NKzYk7srxQQQ",
        "colab_type": "code",
        "colab": {},
        "cellView": "form"
      },
      "source": [
        "#@title\n",
        "embedding = BASILICA.embed_sentence(tweets[1].full_text, model='twitter')\n",
        "len(embedding)"
      ],
      "execution_count": null,
      "outputs": []
    },
    {
      "cell_type": "code",
      "metadata": {
        "id": "eVp7Ra0gxQMR",
        "colab_type": "code",
        "colab": {},
        "cellView": "form"
      },
      "source": [
        "#@title\n",
        "def add_user_tweepy(username):\n",
        "  '''Add a user and their tweets to database'''\n",
        "  try:\n",
        "    # Get user info from tweepy\n",
        "    twitter_user = TWITTER.get_user(username)\n",
        "\n",
        "    # Get tweets ignoring re-tweets and replies\n",
        "    tweets = twitter_user.timeline(count=200,\n",
        "                                   exclude_replies=True,\n",
        "                                   include_rts=False,\n",
        "                                   tweet_mode='extended')\n",
        "    \n",
        "    # Get an examble basilica embedding for first tweet\n",
        "    embedding = BASILICA.embed_sentence(tweets[0].full_text, model='twitter')\n",
        "\n",
        "  except Exception as e:\n",
        "    print('Error processing {}: {}'.format(username, e))\n",
        "    raise e\n",
        "\n",
        "  return tweets, embedding"
      ],
      "execution_count": null,
      "outputs": []
    },
    {
      "cell_type": "code",
      "metadata": {
        "id": "7eVoOvc72z3R",
        "colab_type": "code",
        "colab": {},
        "cellView": "form"
      },
      "source": [
        "#@title\n",
        "elon_tweets, elon_embedding = add_user_tweepy('elonmusk')\n",
        "print(len(elon_tweets), len(elon_embedding))"
      ],
      "execution_count": null,
      "outputs": []
    },
    {
      "cell_type": "markdown",
      "metadata": {
        "id": "AV1ESSGe3ZLp",
        "colab_type": "text"
      },
      "source": [
        "### Twitter Scraper (for those without API access)"
      ]
    },
    {
      "cell_type": "code",
      "metadata": {
        "id": "eWDe1ZmG3W25",
        "colab_type": "code",
        "colab": {}
      },
      "source": [
        "!pip install twitter_scraper"
      ],
      "execution_count": null,
      "outputs": []
    },
    {
      "cell_type": "code",
      "metadata": {
        "id": "pVapHGy7gEFx",
        "colab_type": "code",
        "colab": {}
      },
      "source": [
        "from twitter_scraper import get_tweets, Profile"
      ],
      "execution_count": 6,
      "outputs": []
    },
    {
      "cell_type": "code",
      "metadata": {
        "id": "tLijitRc36p7",
        "colab_type": "code",
        "colab": {
          "base_uri": "https://localhost:8080/",
          "height": 259
        },
        "outputId": "42758a58-9fd9-4540-91b2-d3ba4244541d"
      },
      "source": [
        "elon_profile = Profile('elonmusk')\n",
        "dir(elon_profile)"
      ],
      "execution_count": 7,
      "outputs": [
        {
          "output_type": "execute_result",
          "data": {
            "text/plain": [
              "['banner_photolikes_count',\n",
              " 'biography',\n",
              " 'birthday',\n",
              " 'followers_count',\n",
              " 'following_count',\n",
              " 'is_private',\n",
              " 'is_verified',\n",
              " 'location',\n",
              " 'name',\n",
              " 'profile_photo',\n",
              " 'tweets_count',\n",
              " 'user_id',\n",
              " 'username',\n",
              " 'website']"
            ]
          },
          "metadata": {
            "tags": []
          },
          "execution_count": 7
        }
      ]
    },
    {
      "cell_type": "code",
      "metadata": {
        "id": "f-eNVwU44IFn",
        "colab_type": "code",
        "colab": {
          "base_uri": "https://localhost:8080/",
          "height": 35
        },
        "outputId": "64d095b6-84f8-4c1d-d1c1-25e2fabae420"
      },
      "source": [
        "elon_profile.tweets_count"
      ],
      "execution_count": 8,
      "outputs": [
        {
          "output_type": "execute_result",
          "data": {
            "text/plain": [
              "11948"
            ]
          },
          "metadata": {
            "tags": []
          },
          "execution_count": 8
        }
      ]
    },
    {
      "cell_type": "code",
      "metadata": {
        "id": "FHVYaWlP4PIp",
        "colab_type": "code",
        "colab": {
          "base_uri": "https://localhost:8080/",
          "height": 35
        },
        "outputId": "38c7a295-75e0-40ab-8713-e3894578bd6c"
      },
      "source": [
        "tweets = list(get_tweets('elonmusk', pages=25))\n",
        "print(len(tweets))"
      ],
      "execution_count": 9,
      "outputs": [
        {
          "output_type": "stream",
          "text": [
            "499\n"
          ],
          "name": "stdout"
        }
      ]
    },
    {
      "cell_type": "code",
      "metadata": {
        "id": "-KrSNkfX4nVO",
        "colab_type": "code",
        "colab": {
          "base_uri": "https://localhost:8080/",
          "height": 795
        },
        "outputId": "4ec5c5f1-a789-4858-874b-c3bbb97dd918"
      },
      "source": [
        "tweets[0:3]"
      ],
      "execution_count": 11,
      "outputs": [
        {
          "output_type": "execute_result",
          "data": {
            "text/plain": [
              "[{'entries': {'hashtags': ['#Tesla', '#GigaBerlin'],\n",
              "   'photos': [],\n",
              "   'urls': ['https://twitter.com/torquenewsauto/status/1291372623402881024'],\n",
              "   'videos': []},\n",
              "  'isPinned': False,\n",
              "  'isRetweet': False,\n",
              "  'likes': 19428,\n",
              "  'replies': 1106,\n",
              "  'retweets': 1092,\n",
              "  'text': 'Good piece on Giga Berlin construction https://twitter.com/torquenewsauto/status/1291372623402881024\\xa0…',\n",
              "  'time': datetime.datetime(2020, 8, 7, 17, 12, 8),\n",
              "  'tweetId': '1291784200178159616',\n",
              "  'tweetUrl': '/elonmusk/status/1291784200178159616',\n",
              "  'userId': '44196397',\n",
              "  'username': 'elonmusk'},\n",
              " {'entries': {'hashtags': [],\n",
              "   'photos': [],\n",
              "   'urls': [],\n",
              "   'videos': [{'id': 've_2UFK8GFTnHOZ4'}]},\n",
              "  'isPinned': False,\n",
              "  'isRetweet': True,\n",
              "  'likes': 42496,\n",
              "  'replies': 692,\n",
              "  'retweets': 5041,\n",
              "  'text': 'Falcon 9’s first stage has landed on the Of Course I Still Love You droneship pic.twitter.com/szO3thMxqa',\n",
              "  'time': datetime.datetime(2020, 8, 7, 5, 21, 49),\n",
              "  'tweetId': '1291605444809523200',\n",
              "  'tweetUrl': '/SpaceX/status/1291605444809523200',\n",
              "  'userId': '34743251',\n",
              "  'username': 'SpaceX'},\n",
              " {'entries': {'hashtags': [],\n",
              "   'photos': ['https://pbs.twimg.com/media/EexYPnPU0AEqLUI.jpg'],\n",
              "   'urls': [],\n",
              "   'videos': []},\n",
              "  'isPinned': False,\n",
              "  'isRetweet': False,\n",
              "  'likes': 163411,\n",
              "  'replies': 4504,\n",
              "  'retweets': 11498,\n",
              "  'text': 'SN5 pic.twitter.com/GlZ28KFVHU',\n",
              "  'time': datetime.datetime(2020, 8, 6, 22, 39, 35),\n",
              "  'tweetId': '1291504220948951041',\n",
              "  'tweetUrl': '/elonmusk/status/1291504220948951041',\n",
              "  'userId': '44196397',\n",
              "  'username': 'elonmusk'}]"
            ]
          },
          "metadata": {
            "tags": []
          },
          "execution_count": 11
        }
      ]
    },
    {
      "cell_type": "code",
      "metadata": {
        "id": "rst-gMZQ4stx",
        "colab_type": "code",
        "colab": {
          "base_uri": "https://localhost:8080/",
          "height": 35
        },
        "outputId": "e0d4c734-9a6b-43db-f342-f83deaea9e92"
      },
      "source": [
        "original_tweets = [i for i in tweets if i['username']=='elonmusk']\n",
        "print(len(original_tweets))"
      ],
      "execution_count": 12,
      "outputs": [
        {
          "output_type": "stream",
          "text": [
            "363\n"
          ],
          "name": "stdout"
        }
      ]
    },
    {
      "cell_type": "code",
      "metadata": {
        "id": "bSG3YVUB4-t0",
        "colab_type": "code",
        "colab": {
          "base_uri": "https://localhost:8080/",
          "height": 35
        },
        "outputId": "306fc0d3-4cee-40da-8674-c9e11901c743"
      },
      "source": [
        "original_tweets[0]['text']"
      ],
      "execution_count": 13,
      "outputs": [
        {
          "output_type": "execute_result",
          "data": {
            "application/vnd.google.colaboratory.intrinsic+json": {
              "type": "string"
            },
            "text/plain": [
              "'Good piece on Giga Berlin construction https://twitter.com/torquenewsauto/status/1291372623402881024\\xa0…'"
            ]
          },
          "metadata": {
            "tags": []
          },
          "execution_count": 13
        }
      ]
    },
    {
      "cell_type": "code",
      "metadata": {
        "id": "KVLd9HmC5axX",
        "colab_type": "code",
        "colab": {}
      },
      "source": [
        "def add_user_twitter_scraper(username):\n",
        "    \"\"\"Add a user and their tweets to database.\"\"\"\n",
        "    try:\n",
        "        # Get user profile   \n",
        "        user_profile = list(get_tweets(username, pages=25))\n",
        "\n",
        "        # Get most recent tweets\n",
        "        tweets = list(get_tweets(username, pages=10))\n",
        "        original_tweets = [i for i in tweets if i['username']==username]\n",
        "\n",
        "        # Get an example Basilica embedding for first tweet\n",
        "        embedding = BASILICA.embed_sentence(original_tweets[0]['text'], model='twitter')\n",
        "            \n",
        "    except Exception as e:\n",
        "        print('Error processing {}: {}'.format(username, e))\n",
        "        raise e\n",
        "\n",
        "    return original_tweets, embedding"
      ],
      "execution_count": 15,
      "outputs": []
    },
    {
      "cell_type": "code",
      "metadata": {
        "id": "mlteCwx25pvG",
        "colab_type": "code",
        "colab": {
          "base_uri": "https://localhost:8080/",
          "height": 35
        },
        "outputId": "a375575a-f579-4ba6-be71-6384f9a1672c"
      },
      "source": [
        "elon_tweets, elon_embedding = add_user_twitter_scraper('elonmusk')\n",
        "print(len(elon_tweets), len(elon_embedding))"
      ],
      "execution_count": 18,
      "outputs": [
        {
          "output_type": "stream",
          "text": [
            "132 768\n"
          ],
          "name": "stdout"
        }
      ]
    },
    {
      "cell_type": "code",
      "metadata": {
        "id": "MwpbyAMAJCyw",
        "colab_type": "code",
        "colab": {}
      },
      "source": [
        ""
      ],
      "execution_count": null,
      "outputs": []
    }
  ]
}